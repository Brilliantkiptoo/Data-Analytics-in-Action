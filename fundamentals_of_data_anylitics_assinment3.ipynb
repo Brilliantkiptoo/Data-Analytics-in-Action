{
  "cells": [
    {
      "cell_type": "code",
      "execution_count": 2,
      "metadata": {
        "colab": {
          "base_uri": "https://localhost:8080/"
        },
        "id": "3Ddv_AZVAN1Y",
        "outputId": "2aa29e0e-46cb-445d-861b-7ad4e8d64075"
      },
      "outputs": [
        {
          "name": "stdout",
          "output_type": "stream",
          "text": [
            "<class 'pandas.core.frame.DataFrame'>\n",
            "RangeIndex: 148538 entries, 0 to 148537\n",
            "Data columns (total 29 columns):\n",
            " #   Column      Non-Null Count   Dtype  \n",
            "---  ------      --------------   -----  \n",
            " 0   ID          148538 non-null  int64  \n",
            " 1   Unnamed: 0  148538 non-null  int64  \n",
            " 2   RA_ICRS     148538 non-null  float64\n",
            " 3   DE_ICRS     148538 non-null  float64\n",
            " 4   Source      148538 non-null  float64\n",
            " 5   Plx         148538 non-null  float64\n",
            " 6   PM          148538 non-null  float64\n",
            " 7   pmRA        148538 non-null  float64\n",
            " 8   pmDE        148538 non-null  float64\n",
            " 9   Gmag        148538 non-null  float64\n",
            " 10  e_Gmag      148538 non-null  float64\n",
            " 11  BPmag       148538 non-null  float64\n",
            " 12  e_BPmag     148538 non-null  float64\n",
            " 13  RPmag       148538 non-null  float64\n",
            " 14  e_RPmag     148538 non-null  float64\n",
            " 15  GRVSmag     84484 non-null   float64\n",
            " 16  e_GRVSmag   84484 non-null   float64\n",
            " 17  BP-RP       148538 non-null  float64\n",
            " 18  BP-G        148538 non-null  float64\n",
            " 19  G-RP        148538 non-null  float64\n",
            " 20  pscol       4853 non-null    float64\n",
            " 21  Teff        148538 non-null  float64\n",
            " 22  Dist        148538 non-null  float64\n",
            " 23  Rad         148538 non-null  float64\n",
            " 24  Lum-Flame   145543 non-null  float64\n",
            " 25  Mass-Flame  135987 non-null  float64\n",
            " 26  Age-Flame   110522 non-null  float64\n",
            " 27  z-Flame     145543 non-null  float64\n",
            " 28  SpType-ELS  148538 non-null  object \n",
            "dtypes: float64(26), int64(2), object(1)\n",
            "memory usage: 32.9+ MB\n"
          ]
        },
        {
          "data": {
            "text/plain": [
              "(   ID  Unnamed: 0    RA_ICRS   DE_ICRS        Source      Plx      PM    pmRA  \\\n",
              " 0   1           1  44.375187  2.895901  1.400000e+15   1.8937  16.954   7.031   \n",
              " 1   2           2  42.959304  2.920459  1.550000e+15   2.9732   2.528   1.795   \n",
              " 2   3           3  44.031079  3.203683  1.610000e+15   2.2337  10.776  -3.151   \n",
              " 3   4           4  45.463599  3.138095  1.750000e+15   4.0179  10.053   1.828   \n",
              " 4   5           5  43.784164  3.486814  2.060000e+15  11.6458  32.355  29.688   \n",
              " \n",
              "      pmDE       Gmag  ...      G-RP   pscol    Teff      Dist     Rad  \\\n",
              " 0 -15.427  10.369156  ...  0.163792     NaN  9348.7  679.7121  2.4642   \n",
              " 1   1.780  10.038978  ...  0.304139     NaN  7520.7  339.8108  1.9321   \n",
              " 2 -10.305   9.810181  ...  0.338961  1.5956  7052.3  433.9715  2.9735   \n",
              " 3   9.885   8.163041  ...  0.091842     NaN  9982.8  251.2483  2.2829   \n",
              " 4 -12.863   6.855547  ...  0.257051     NaN  7192.3   85.7073  2.0194   \n",
              " \n",
              "    Lum-Flame  Mass-Flame  Age-Flame   z-Flame  SpType-ELS  \n",
              " 0  25.817343       2.157      0.336  0.638083     A        \n",
              " 1  10.527038       1.688      1.033  0.507551     A        \n",
              " 2  20.801886       1.923      1.124  0.368294     A        \n",
              " 3  45.868046       2.447      0.320  0.509338     A        \n",
              " 4   9.909233       1.647      1.288  0.459583     A        \n",
              " \n",
              " [5 rows x 29 columns],\n",
              "                  ID     Unnamed: 0        RA_ICRS        DE_ICRS  \\\n",
              " count  148538.00000  148538.000000  148538.000000  148538.000000   \n",
              " mean    92751.47536   46668.991416     124.353753      41.767256   \n",
              " std     53601.34516   27299.507297     115.895758      23.823111   \n",
              " min         1.00000       0.000000       0.000345     -39.993690   \n",
              " 25%     46356.25000   23144.250000      35.904057      33.489786   \n",
              " 50%     92787.50000   46413.500000      77.449781      47.975644   \n",
              " 75%    139134.75000   69605.750000     249.607253      59.740895   \n",
              " max    185672.00000   99999.000000     359.997541      89.774031   \n",
              " \n",
              "              Source            Plx             PM           pmRA  \\\n",
              " count  1.485380e+05  148538.000000  148538.000000  148538.000000   \n",
              " mean   1.161447e+18       0.940455       4.459746      -0.524399   \n",
              " std    1.005752e+18       1.206465       6.489142       5.682385   \n",
              " min    3.030000e+13      -5.014100       0.009000    -439.836000   \n",
              " 25%    4.190000e+17       0.291700       1.375000      -2.154000   \n",
              " 50%    5.150000e+17       0.575300       2.671000      -0.673000   \n",
              " 75%    2.030000e+18       1.217800       5.400000       0.567750   \n",
              " max    3.130000e+18      68.001000     489.164000     178.977000   \n",
              " \n",
              "                 pmDE           Gmag  ...           BP-G           G-RP  \\\n",
              " count  148538.000000  148538.000000  ...  148538.000000  148538.000000   \n",
              " mean       -2.012533      13.097992  ...       0.288080       0.438600   \n",
              " std         5.038219       2.198870  ...       0.199634       0.227970   \n",
              " min      -214.071000       2.821990  ...      -0.429089      -0.367105   \n",
              " 25%        -3.258000      11.550700  ...       0.146889       0.272552   \n",
              " 50%        -1.111000      13.144079  ...       0.242661       0.410799   \n",
              " 75%        -0.161000      14.799377  ...       0.391389       0.594428   \n",
              " max       203.597000      17.648483  ...       2.364899       1.397652   \n",
              " \n",
              "              pscol           Teff           Dist            Rad  \\\n",
              " count  4853.000000  148538.000000  148538.000000  148538.000000   \n",
              " mean      1.602479    9588.528320    2342.311022       2.829017   \n",
              " std       0.086156    2397.641368    2191.651912       1.551902   \n",
              " min       0.819300    4485.100000      14.775400       0.527000   \n",
              " 25%       1.553700    7736.300000     820.714325       1.899700   \n",
              " 50%       1.621200    9395.450000    1736.246050       2.407700   \n",
              " 75%       1.662100   10397.800000    3392.107000       3.300575   \n",
              " max       1.977500   41218.400000   33828.895000      71.024800   \n",
              " \n",
              "            Lum-Flame     Mass-Flame      Age-Flame        z-Flame  \n",
              " count  145543.000000  135987.000000  110522.000000  145543.000000  \n",
              " mean       99.374063       2.439773       0.627580       0.535371  \n",
              " std       257.766395       0.818048       0.352305       0.161399  \n",
              " min         0.235342       0.726000       0.200000       0.068180  \n",
              " 25%        15.567123       1.853000       0.333000       0.438957  \n",
              " 50%        33.223225       2.267000       0.521000       0.510321  \n",
              " 75%        77.832000       2.739000       0.896000       0.599231  \n",
              " max      3498.170000       7.476000      13.263000       1.589762  \n",
              " \n",
              " [8 rows x 28 columns],\n",
              " None)"
            ]
          },
          "execution_count": 2,
          "metadata": {},
          "output_type": "execute_result"
        }
      ],
      "source": [
        "import pandas as pd\n",
        "\n",
        "# Load the training dataset\n",
        "training_data_path = 'dataGaia_AB_train.csv'\n",
        "training_data = pd.read_csv(training_data_path)\n",
        "\n",
        "# Display the first few rows and basic information about the dataset\n",
        "training_data.head(), training_data.describe(), training_data.info()\n"
      ]
    },
    {
      "cell_type": "markdown",
      "metadata": {
        "id": "O2eodkvFA1BO"
      },
      "source": [
        "The training dataset consists of 148,538 entries and 29 columns"
      ]
    },
    {
      "cell_type": "markdown",
      "metadata": {
        "id": "Xmthdo2PA-6o"
      },
      "source": [
        "# **Data preprocessing**"
      ]
    },
    {
      "cell_type": "code",
      "execution_count": 3,
      "metadata": {
        "colab": {
          "base_uri": "https://localhost:8080/"
        },
        "id": "qn-OudZCAzZS",
        "outputId": "d964a7b7-da58-4961-939f-5011d44bd931"
      },
      "outputs": [
        {
          "name": "stderr",
          "output_type": "stream",
          "text": [
            "C:\\Users\\brill\\AppData\\Local\\Temp\\ipykernel_26084\\1485500778.py:10: FutureWarning: A value is trying to be set on a copy of a DataFrame or Series through chained assignment using an inplace method.\n",
            "The behavior will change in pandas 3.0. This inplace method will never work because the intermediate object on which we are setting values always behaves as a copy.\n",
            "\n",
            "For example, when doing 'df[col].method(value, inplace=True)', try using 'df.method({col: value}, inplace=True)' or df[col] = df[col].method(value) instead, to perform the operation inplace on the original object.\n",
            "\n",
            "\n",
            "  training_data_cleaned[column].fillna(training_data_cleaned[column].mean(), inplace=True)\n"
          ]
        },
        {
          "data": {
            "text/plain": [
              "((118830, 26), (29708, 26), (118830,), (29708,))"
            ]
          },
          "execution_count": 3,
          "metadata": {},
          "output_type": "execute_result"
        }
      ],
      "source": [
        "from sklearn.model_selection import train_test_split\n",
        "from sklearn.preprocessing import StandardScaler, LabelEncoder\n",
        "\n",
        "# Drop unnecessary columns\n",
        "training_data_cleaned = training_data.drop(columns=['ID', 'Unnamed: 0'])\n",
        "\n",
        "# Handling missing values: Imputing with mean for numerical columns\n",
        "for column in training_data_cleaned.columns:\n",
        "    if training_data_cleaned[column].isnull().any() and training_data_cleaned[column].dtype != 'object':\n",
        "        training_data_cleaned[column].fillna(training_data_cleaned[column].mean(), inplace=True)\n",
        "\n",
        "# Encoding categorical target variable\n",
        "label_encoder = LabelEncoder()\n",
        "training_data_cleaned['SpType-ELS'] = label_encoder.fit_transform(training_data_cleaned['SpType-ELS'])\n",
        "\n",
        "# Splitting data into features and target\n",
        "X = training_data_cleaned.drop('SpType-ELS', axis=1)\n",
        "y = training_data_cleaned['SpType-ELS']\n",
        "\n",
        "# Splitting the dataset into training and validation sets\n",
        "X_train, X_val, y_train, y_val = train_test_split(X, y, test_size=0.2, random_state=42)\n",
        "\n",
        "# Scaling features\n",
        "scaler = StandardScaler()\n",
        "X_train_scaled = scaler.fit_transform(X_train)\n",
        "X_val_scaled = scaler.transform(X_val)\n",
        "\n",
        "X_train_scaled.shape, X_val_scaled.shape, y_train.shape, y_val.shape\n"
      ]
    },
    {
      "cell_type": "code",
      "execution_count": 5,
      "metadata": {},
      "outputs": [],
      "source": []
    },
    {
      "cell_type": "markdown",
      "metadata": {
        "id": "V9DA7bT3B7ky"
      },
      "source": [
        "Training data: 118,830 samples\n",
        "Validation data: 29,708 samples\n",
        "Each sample has 26 features after preprocessing."
      ]
    }
  ],
  "metadata": {
    "colab": {
      "provenance": []
    },
    "kernelspec": {
      "display_name": "Python 3",
      "name": "python3"
    },
    "language_info": {
      "codemirror_mode": {
        "name": "ipython",
        "version": 3
      },
      "file_extension": ".py",
      "mimetype": "text/x-python",
      "name": "python",
      "nbconvert_exporter": "python",
      "pygments_lexer": "ipython3",
      "version": "3.11.9"
    }
  },
  "nbformat": 4,
  "nbformat_minor": 0
}
